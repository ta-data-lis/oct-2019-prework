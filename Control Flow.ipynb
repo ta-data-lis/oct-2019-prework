{
 "cells": [
  {
   "cell_type": "code",
   "execution_count": 2,
   "metadata": {},
   "outputs": [
    {
     "name": "stdout",
     "output_type": "stream",
     "text": [
      "happy variable is set to True\n"
     ]
    }
   ],
   "source": [
    "happy = True\n",
    "print (\"happy variable is set to\", happy)\n"
   ]
  },
  {
   "cell_type": "code",
   "execution_count": 6,
   "metadata": {},
   "outputs": [
    {
     "name": "stdout",
     "output_type": "stream",
     "text": [
      "True\n",
      "True\n",
      "True\n",
      "False\n",
      "True\n",
      "False\n"
     ]
    }
   ],
   "source": [
    "print(5 + 5 == 10)\n",
    "print('apple' != 'orange')\n",
    "print(100 > 75)\n",
    "print(93 < 80)\n",
    "print(3 in [1,2,3,4,5])\n",
    "print(3 not in [1,2,3,4,5])"
   ]
  },
  {
   "cell_type": "code",
   "execution_count": 14,
   "metadata": {},
   "outputs": [
    {
     "name": "stdout",
     "output_type": "stream",
     "text": [
      "True\n",
      "False\n",
      "True\n",
      "False\n"
     ]
    }
   ],
   "source": [
    "print ((5+5 == 10) & ('apple' != 'orange'))\n",
    "print((100 > 75) & (93 < 80))\n",
    "print((100 > 75) | (93 < 80))\n",
    "print((93 < 80) | (3 not in [1,2,3,4,5]))"
   ]
  },
  {
   "cell_type": "code",
   "execution_count": 42,
   "metadata": {},
   "outputs": [
    {
     "name": "stdout",
     "output_type": "stream",
     "text": [
      "bingoooo its 10\n"
     ]
    }
   ],
   "source": [
    "number = 10\n",
    "\n",
    "if number <10: \n",
    "    print(\"number less\")\n",
    "elif number > 10:\n",
    "    print(\"number greater\")\n",
    "elif number == 10: \n",
    "    print('bingoooo its 10')\n",
    "else:\n",
    "    print(\"number aint nothing broooo\")\n"
   ]
  },
  {
   "cell_type": "code",
   "execution_count": 66,
   "metadata": {},
   "outputs": [
    {
     "name": "stdout",
     "output_type": "stream",
     "text": [
      "Your total commute is expected to be  45 minutes.\n"
     ]
    }
   ],
   "source": [
    "\n",
    "commute = 30\n",
    "rain = True\n",
    "traffic = False\n",
    "\n",
    "if (rain == True) | (traffic == True):\n",
    "    if (rain == True) & (traffic == True):\n",
    "        total_commute = commute + 15 + 20\n",
    "    elif (rain == True) & (traffic == False):\n",
    "        total_commute = commute + 15\n",
    "    elif (rain == False) & (traffic == True):\n",
    "        total_commute = commute + 20\n",
    "else:\n",
    "    total_commute = commute\n",
    "    \n",
    "print(\"Your total commute is expected to be \",total_commute,\"minutes.\")\n",
    "\n"
   ]
  },
  {
   "cell_type": "code",
   "execution_count": 72,
   "metadata": {},
   "outputs": [
    {
     "name": "stdout",
     "output_type": "stream",
     "text": [
      "5\n",
      "6\n",
      "7\n",
      "8\n",
      "9\n",
      "10\n",
      "11\n",
      "12\n",
      "13\n",
      "14\n"
     ]
    }
   ],
   "source": [
    "for i in range(5,15):\n",
    "    print(i)\n"
   ]
  },
  {
   "cell_type": "code",
   "execution_count": 74,
   "metadata": {},
   "outputs": [
    {
     "name": "stdout",
     "output_type": "stream",
     "text": [
      "apple\n",
      "orange\n",
      "banana\n",
      "grapes\n",
      "pineapple\n"
     ]
    }
   ],
   "source": [
    "hats = ['apple', 'orange', 'banana', 'grapes', 'pineapple']\n",
    "\n",
    "for hat in hats:\n",
    "    print(hat)"
   ]
  },
  {
   "cell_type": "code",
   "execution_count": 80,
   "metadata": {},
   "outputs": [
    {
     "name": "stdout",
     "output_type": "stream",
     "text": [
      "Brian is 23 years old.\n",
      "Amy is 22 years old.\n",
      "Darlene is 47 years old.\n",
      "Ralph is 32 years old.\n",
      "Jordan is 28 years old.\n",
      "Stephanie is 35 years old.\n"
     ]
    }
   ],
   "source": [
    "ages = {'Brian':23,'Amy':22,'Darlene':47,'Ralph':32,'Jordan':28,'Stephanie':35}\n",
    "\n",
    "for name, age in ages.items():\n",
    "    print(name, \"is\", age, \"years old.\")"
   ]
  },
  {
   "cell_type": "code",
   "execution_count": 83,
   "metadata": {},
   "outputs": [
    {
     "name": "stdout",
     "output_type": "stream",
     "text": [
      "Total is currently 34\n",
      "Total is currently 46\n",
      "Total is currently 139\n",
      "Total is currently 922\n",
      "Total is currently 1252\n",
      "Total is currently 2148\n",
      "Total is currently 2149\n",
      "Total is currently 2204\n"
     ]
    }
   ],
   "source": [
    "num_list = [34,12,93,783,330,896,1,55]\n",
    "\n",
    "total = 0\n",
    "\n",
    "for i in num_list:\n",
    "    total += i\n",
    "    print(\"Total is currently\",total)"
   ]
  },
  {
   "cell_type": "code",
   "execution_count": 88,
   "metadata": {},
   "outputs": [
    {
     "name": "stdout",
     "output_type": "stream",
     "text": [
      "[1, 4, 9, 16, 25, 36, 49, 64, 81, 100]\n"
     ]
    }
   ],
   "source": [
    "new_list = []\n",
    "old_list = [1,2,3,4,5,6,7,8,9,10]\n",
    "\n",
    "for i in old_list:\n",
    "    square = i**2\n",
    "    new_list.append(square)\n",
    "\n",
    "print(new_list)"
   ]
  },
  {
   "cell_type": "code",
   "execution_count": 94,
   "metadata": {},
   "outputs": [
    {
     "name": "stdout",
     "output_type": "stream",
     "text": [
      "cake is in the oven.\n",
      "cake is not done yet.\n",
      "cake is not done yet.\n",
      "cake is not done yet.\n",
      "it's done, mangiamo\n"
     ]
    }
   ],
   "source": [
    "total_time = 60 \n",
    "minutes_elapsed = 0\n",
    "wait = 15\n",
    "\n",
    "print(\"cake is in the oven.\")\n",
    "minutes_elapsed += wait\n",
    "\n",
    "while minutes_elapsed < total_time:\n",
    "    print(\"cake is not done yet.\")\n",
    "    minutes_elapsed += wait\n",
    "\n",
    "print(\"it's done, mangiamo\")\n",
    "    "
   ]
  },
  {
   "cell_type": "code",
   "execution_count": null,
   "metadata": {},
   "outputs": [],
   "source": []
  },
  {
   "cell_type": "code",
   "execution_count": null,
   "metadata": {},
   "outputs": [],
   "source": []
  }
 ],
 "metadata": {
  "kernelspec": {
   "display_name": "Python 3",
   "language": "python",
   "name": "python3"
  },
  "language_info": {
   "codemirror_mode": {
    "name": "ipython",
    "version": 3
   },
   "file_extension": ".py",
   "mimetype": "text/x-python",
   "name": "python",
   "nbconvert_exporter": "python",
   "pygments_lexer": "ipython3",
   "version": "3.9.1"
  }
 },
 "nbformat": 4,
 "nbformat_minor": 4
}
